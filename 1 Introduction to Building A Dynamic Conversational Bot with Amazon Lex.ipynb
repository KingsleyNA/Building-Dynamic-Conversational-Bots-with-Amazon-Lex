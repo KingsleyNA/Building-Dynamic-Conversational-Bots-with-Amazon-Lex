{
 "cells": [
  {
   "cell_type": "markdown",
   "metadata": {},
   "source": [
    "# 1 Introduction with Amazon Lex\n",
    "> ### What is Amazom Lex: \n",
    "  Service for building conversational interfaces into any application using voice and text.\n",
    "> ### Provides: \n",
    "  Natural Language Understanding (NLU), Automatic Speech Recognition (ASR) powered by Deep Learning technologies.\n",
    "> ### Allows:\n",
    "Buidling of conversational bots\n",
    "\n",
    "\n"
   ]
  },
  {
   "cell_type": "markdown",
   "metadata": {},
   "source": [
    "## Examplary project at hand\n",
    "> ### Small Hat Business:\n",
    "- Currently, the shop offers 3 types of hat.\n",
    "- Currently, the shop offers 3 colors of hat.\n",
    "- Release of new types and colors.\n",
    "- Customer can interact using website\n",
    "- Customer would like to interact using a natural language interface.\n",
    "\n",
    "> ### Solution: A conversational bot powered by AI.\n",
    "- Allow customers to get information about and order hats.\n",
    "- New products introduction into the conversation automatically.\n",
    "- Gather data to know what customers want\n"
   ]
  },
  {
   "cell_type": "markdown",
   "metadata": {},
   "source": [
    "## How can we build the bot?\n",
    "> ### With Amazon Lex (Structure):\n",
    "- Intents: Intents to perform an action in respose to natural language user input.\n",
    "- Utterances: Utterances are spoken or typed phrases that invoke your intent.\n",
    "- Slots: SLots are input data required to fulfil an intent \n",
    "- Fulfilments are the mechanism for intent to accomplish their outcome.\n",
    "\n",
    "#### Note:\n",
    "- Slots are like a function's parameters. \n",
    "- Slots can be optional. Slot elicitation takes this using NLP context. Lex would ask configured questions.\n",
    "- Slot utterances add more \"richness or context\" to the context to represent more NL of customers (how they say things)."
   ]
  },
  {
   "cell_type": "markdown",
   "metadata": {},
   "source": [
    "## How can an Intent be fulfilled?\n",
    "> ### AWS Lambda Integration:\n",
    "The intents and slot values are passed to Amazon's AWS Lambda function to implement a business logic.\n",
    "> ### Return Intent and Slot values to clients.\n",
    "The clients input is parsed to derive intents and slots values. Outputs are then returned to the client for further processing."
   ]
  },
  {
   "cell_type": "code",
   "execution_count": null,
   "metadata": {},
   "outputs": [],
   "source": []
  }
 ],
 "metadata": {
  "kernelspec": {
   "display_name": "Python 3",
   "language": "python",
   "name": "python3"
  },
  "language_info": {
   "codemirror_mode": {
    "name": "ipython",
    "version": 3
   },
   "file_extension": ".py",
   "mimetype": "text/x-python",
   "name": "python",
   "nbconvert_exporter": "python",
   "pygments_lexer": "ipython3",
   "version": "3.7.3"
  }
 },
 "nbformat": 4,
 "nbformat_minor": 2
}
