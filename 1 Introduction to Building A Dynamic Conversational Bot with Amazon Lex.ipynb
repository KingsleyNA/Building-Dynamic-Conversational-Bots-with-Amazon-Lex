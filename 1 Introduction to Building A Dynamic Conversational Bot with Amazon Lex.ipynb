{
 "cells": [
  {
   "cell_type": "markdown",
   "metadata": {},
   "source": [
    "# 1 Introduction with Amazon Lex\n",
    "> ### What is Amazom Lex: \n",
    "  Service for building conversational interfaces into any application using voice and text.\n",
    "> ### Provides: \n",
    "  Natural Language Understanding (NLU), Automatic Speech Recognition (ASR) powered by Deep Learning technologies.\n",
    "> ### Allows:\n",
    "Buidling of conversational bots\n",
    "\n",
    "\n"
   ]
  },
  {
   "cell_type": "markdown",
   "metadata": {},
   "source": [
    "## Examplary project at hand\n",
    "> ### Small Hat Business:\n",
    "- Currently, the shop offers 3 types of hat.\n",
    "- Currently, the shop offers 3 colors of hat.\n",
    "- Release of new types and colors.\n",
    "- Customer can interact using website\n",
    "- Customer would like to interact using a natural language interface.\n",
    "\n",
    "> ### Solution: A conversational bot powered by AI.\n",
    "- Allow customers to get information about and order hats.\n",
    "- New products introduction into the conversation automatically.\n",
    "- Gather data to know what customers want\n"
   ]
  },
  {
   "cell_type": "markdown",
   "metadata": {},
   "source": [
    "## How can we build the bot?\n",
    "> ### With Amazon Lex (Structure):\n",
    "- Intents: Intents to perform an action in respose to natural language user input.\n",
    "- Utterances: Utterances are spoken or typed phrases that invoke your intent.\n",
    "- Slots: SLots are input data required to fulfil an intent \n",
    "- Fulfilments are the mechanism for intent to accomplish their outcome.\n",
    "\n",
    "#### Note:\n",
    "- Slots are like a function's parameters. \n",
    "- Slots can be optional. Slot elicitation takes this using NLP context. Lex would ask configured questions.\n",
    "- Slot utterances add more \"richness or context\" to the context to represent more NL of customers (how they say things)."
   ]
  },
  {
   "cell_type": "markdown",
   "metadata": {},
   "source": [
    "## How can an Intent be fulfilled?\n",
    "> ### AWS Lambda Integration:\n",
    "The intents and slot values are passed to Amazon's AWS Lambda function to implement a business logic.\n",
    "> ### Return Intent and Slot values to clients.\n",
    "The clients input is parsed to derive intents and slots values. Outputs are then returned to the client for further processing.\n",
    "\n",
    "> ### Note:\n",
    "- Amazon Lex has about 100 intents for each bot you wish to create. Intents are the big deal of the entire bot structure and almost others are directly or indirectly linked to them. They can be specified as \"global objects\", making its composition with other ready-made intents possible through a var.\n",
    "- Every intent have two limits for utterances: a 1,500 utterance limit or 200,000 characters limit for utterances. Utterances would serve to map Natural Language to a specified intent. It should be noted that, if two intents have very similar utterances, Lex would find it difficult to match the right intent. \n",
    "- An intent can also have up to 100 slots which is linked to the utterances. One slot name can be referred to only once.\n",
    "- Every slot has a specific slot type. Slot types are also global objects. That means, the developer can use it in different intents in bots. Slot is a list of enumeration values which could vary from 1 to 10000.\n",
    "- Likely, there is a Slot Elicitation Prompt with up to five different messages. Slots can also have up to ten different utterances.\n",
    "- An intent can a Confirmation Prompt: comprising <=5 messages (with 1000 UTF chars). Prompts can also reference slot values to provide a user with slot values the bot gathers."
   ]
  },
  {
   "cell_type": "code",
   "execution_count": null,
   "metadata": {},
   "outputs": [],
   "source": []
  }
 ],
 "metadata": {
  "kernelspec": {
   "display_name": "Python 3",
   "language": "python",
   "name": "python3"
  },
  "language_info": {
   "codemirror_mode": {
    "name": "ipython",
    "version": 3
   },
   "file_extension": ".py",
   "mimetype": "text/x-python",
   "name": "python",
   "nbconvert_exporter": "python",
   "pygments_lexer": "ipython3",
   "version": "3.7.3"
  }
 },
 "nbformat": 4,
 "nbformat_minor": 2
}
