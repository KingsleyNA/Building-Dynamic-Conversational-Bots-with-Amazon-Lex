{
 "cells": [
  {
   "cell_type": "markdown",
   "metadata": {},
   "source": [
    "# 1 Introduction to Amazon Lex for Conversational Bots\n",
    "> ### What is Amazom Lex: \n",
    "  Service for building conversational interfaces into any application using voice and text.\n",
    "> ### Provides: \n",
    "  Natural Language Understanding (NLU), Automatic Speech Recognition (ASR) powered by Deep Learning technologies.\n",
    "> ### Allows:\n",
    "Buidling of conversational bots\n",
    "\n",
    "\n"
   ]
  },
  {
   "cell_type": "markdown",
   "metadata": {},
   "source": [
    "## Examplary project at hand\n",
    "> ### Small Hat Business:\n",
    "- Currently, the shop offers 3 types of hat.\n",
    "- Currently, the shop offers 3 colors of hat.\n",
    "- Release of new types and colors.\n",
    "- Customer can interact using website\n",
    "- Customer would like to interact using a natural language interface.\n",
    "\n",
    "> ### Solution: A conversational bot powered by AI.\n",
    "- Allow customers to get information about and order hats.\n",
    "- New products introduction into the conversation automatically.\n",
    "- Gather data to know what customers want\n"
   ]
  },
  {
   "cell_type": "markdown",
   "metadata": {},
   "source": [
    "## How can we build the bot?\n",
    "> ### With Amazon Lex (Structure):\n",
    "- Intents: Intents to perform an action in respose to natural language user input.\n",
    "- Utterances: Utterances are spoken or typed phrases that invoke your intent.\n",
    "- Slots: SLots are input data required to fulfil an intent \n",
    "- Fulfilments are the mechanism for intent to accomplish their outcome.\n",
    "\n",
    "#### Note:\n",
    "- Slots are like a function's parameters. \n",
    "- Slots can be optional. Slot elicitation takes this using NLP context. Lex would ask configured questions.\n",
    "- Slot utterances add more \"richness or context\" to the context to represent more NL of customers (how they say things)."
   ]
  },
  {
   "cell_type": "markdown",
   "metadata": {},
   "source": [
    "## How can an Intent be fulfilled?\n",
    "> ### AWS Lambda Integration:\n",
    "The intents and slot values are passed to Amazon's AWS Lambda function to implement a business logic.\n",
    "> ### Return Intent and Slot values to clients.\n",
    "The clients input is parsed to derive intents and slots values. Outputs are then returned to the client for further processing.\n",
    "\n",
    "> ### Note:\n",
    "- Amazon Lex has about 100 intents for each bot you wish to create. Intents are the big deal of the entire bot structure and almost others are directly or indirectly linked to them. They can be specified as \"global objects\", making its composition with other ready-made intents possible through a var.\n",
    "- Every intent have two limits for utterances: a 1,500 utterance limit or 200,000 characters limit for utterances. Utterances would serve to map Natural Language to a specified intent. It should be noted that, if two intents have very similar utterances, Lex would find it difficult to match the right intent. \n",
    "- An intent can also have up to 100 slots which is linked to the utterances. One slot name can be referred to only once.\n",
    "- Every slot has a specific slot type. Slot types are also global objects. That means, the developer can use it in different intents in bots. Slot is a list of enumeration values which could vary from 1 to 10000.\n",
    "- Likely, there is a Slot Elicitation Prompt with up to five different messages. Slots can also have up to ten different utterances.\n",
    "- An intent can a Confirmation Prompt: comprising <=5 messages (with 1000 UTF chars). Prompts can also reference slot values to provide a user with slot values the bot gathers.\n",
    "> ### Recommendation:\n",
    "I will recommend using the 2nd option if you are a beginner and advancing right into the AWS Lambda Integration. AWS Lambda Integrations is more dynamic, but developers would be met with writing custom functions, usually by passing \n",
    "- <b>input Events</b> formatted as json objests (comprising: currentIntent(name, slots, confirmationStatus), userId, inputTranscript, sessionAttributes) \n",
    "- <b>responses</b> (comprising: dialogAction(type, intentName, slots, message, slotToElicit, resposeCard, fulfilmentState))"
   ]
  },
  {
   "cell_type": "markdown",
   "metadata": {},
   "source": [
    "## Directing the Conversation\n",
    "> In order to control the flow of the conversation, five dialogs actions or types could be used:\n",
    "- <b>Close:</b> this informs Lex not to expect a response from a user. E.g. \"Your hats order has been placed. Thank you!\" does not expect an answer from a client. Lex can use automatic \"goodbye\" or output your custom message for the intent to the client.\n",
    "- <b>Confirm Intent:</b> this informs Lex to expect a \"yes\" or a \"no\" from a client to confirm an intent. An intent name and slot is often included to detail. Slots can be set to null.\n",
    "- <b>Elicit Intent:</b> this informs Lex to expect an utterance that includes an intent from the client. E.g. \"I need a yellow hat!\" \"Yellow\" may not be sufficient for an orderIntent for our shop. Lex would then use a clarification prompt. Lex could be satisfied with, say, \"yellow top hat\". Lex would prompt the client automatically if there's no custom message.\n",
    "- <b>Elicit Slot:</b> this informs Lex to expect an utterance with a slot value. Intent name, slot field and slot are required. Lex would prompt the client automatically if there's no custom message.\n",
    "- <b>Delegate:</b> this directs Lex to choose the next appropriate cause of action based on the bot configuration.  "
   ]
  },
  {
   "cell_type": "markdown",
   "metadata": {},
   "source": [
    "## Best Practices for Designing Intents for our Bots\n",
    "> #### Model the interactions of your bot in advance\n",
    "- You may use state machines etc.\n",
    "\n",
    "> #### Design single purpose intents in the bot interactions\n",
    "- Easier to fulfil\n",
    "- Reusable\n",
    "- Maintainable\n",
    "\n",
    "> #### Provide as much context as possible to the clients\n",
    "- Utterances\n",
    "- Slots within utterances\n",
    "\n",
    "> #### Use versioning"
   ]
  },
  {
   "cell_type": "markdown",
   "metadata": {},
   "source": [
    "## AWS Magic!\n",
    "> I love Amazon Lex in a unique way. AWS provides a variety of tailored Enterprise solutions to satisfy your need as a developers. There's virtually no limitations.\n",
    "\n",
    "> In addition to its robust day-to-day capabilities, AWS offers an <b>Integrated Development Consoles</b> to Lex to give you more flexibility and efficiency. Comprising:\n",
    "- Integrated development in the AWS console.\n",
    "- Trigger Lambda functions\n",
    "- Multi-step conversations\n",
    "- Continually improving ASR and NLU models\n",
    "- Enterprise connectors which are fully managed.\n",
    "\n",
    "> You can build, test and deploy your conversational bots from scratch to production. \n",
    "\n",
    "Love that? I love it too.\n",
    "Don't hesitate to ask questions whenever the need be."
   ]
  },
  {
   "cell_type": "code",
   "execution_count": null,
   "metadata": {},
   "outputs": [],
   "source": []
  }
 ],
 "metadata": {
  "kernelspec": {
   "display_name": "Python 3",
   "language": "python",
   "name": "python3"
  },
  "language_info": {
   "codemirror_mode": {
    "name": "ipython",
    "version": 3
   },
   "file_extension": ".py",
   "mimetype": "text/x-python",
   "name": "python",
   "nbconvert_exporter": "python",
   "pygments_lexer": "ipython3",
   "version": "3.7.3"
  }
 },
 "nbformat": 4,
 "nbformat_minor": 2
}
